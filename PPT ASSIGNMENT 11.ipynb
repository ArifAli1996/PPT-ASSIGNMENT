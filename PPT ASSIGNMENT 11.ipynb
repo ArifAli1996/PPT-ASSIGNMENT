{
 "cells": [
  {
   "cell_type": "markdown",
   "id": "2eeff681",
   "metadata": {},
   "source": [
    "# PPT ASSIGNMENT 11"
   ]
  },
  {
   "cell_type": "markdown",
   "id": "3c03689b",
   "metadata": {},
   "source": [
    "# Question 1\n",
    "\n",
    "Given a non-negative integer `x`, return *the square root of* `x` *rounded down to the nearest integer*. The returned integer should be **non-negative** as well.\n",
    "\n",
    "You **must not use** any built-in exponent function or operator.\n",
    "\n",
    "- For example, do not use `pow(x, 0.5)` in c++ or `x ** 0.5` in python.\n",
    "\n",
    "**Example 1:**\n",
    "\n",
    "\n",
    "Input: x = 4\n",
    "\n",
    "Output: 2\n",
    "\n",
    "Explanation: The square root of 4 is 2, so we return 2.\n"
   ]
  },
  {
   "cell_type": "code",
   "execution_count": 1,
   "id": "bce14bce",
   "metadata": {},
   "outputs": [
    {
     "name": "stdout",
     "output_type": "stream",
     "text": [
      "2\n"
     ]
    }
   ],
   "source": [
    "def mySqrt(x):\n",
    "      \n",
    "        \n",
    "        if x < 2:\n",
    "            return x\n",
    "        \n",
    "        start = 0\n",
    "        end = x/2\n",
    "        \n",
    "        while (start <= end):\n",
    "            \n",
    "            mid = int((start + end) / 2)\n",
    "            \n",
    "            square = mid * mid\n",
    "            \n",
    "            if square == x:\n",
    "                return mid\n",
    "            \n",
    "            if square > x:\n",
    "                end = mid - 1\n",
    "                \n",
    "            else:\n",
    "                start = mid + 1\n",
    "                \n",
    "        return end\n",
    "print(mySqrt(4))"
   ]
  },
  {
   "cell_type": "markdown",
   "id": "c136b08d",
   "metadata": {},
   "source": [
    "# Question 2\n",
    "\n",
    "A peak element is an element that is strictly greater than its neighbors.\n",
    "\n",
    "Given a **0-indexed** integer array `nums`, find a peak element, and return its index. If the array contains multiple peaks, return the index to **any of the peaks**.\n",
    "\n",
    "You may imagine that `nums[-1] = nums[n] = -∞`. In other words, an element is always considered to be strictly greater than a neighbor that is outside the array.\n",
    "\n",
    "You must write an algorithm that runs in `O(log n)` time.\n",
    "\n",
    "**Example 1:**\n",
    "\n",
    "\n",
    "Input: nums = [1,2,3,1]\n",
    "\n",
    "Output: 2\n",
    "\n",
    "Explanation: 3 is a peak element and your function should return the index number 2."
   ]
  },
  {
   "cell_type": "code",
   "execution_count": 2,
   "id": "4d260246",
   "metadata": {},
   "outputs": [
    {
     "name": "stdout",
     "output_type": "stream",
     "text": [
      "2\n"
     ]
    }
   ],
   "source": [
    "def findPeakElement( nums):\n",
    "        start = 0\n",
    "        end = len(nums) - 1\n",
    "        while start < end:\n",
    "            mid = (start + end) // 2\n",
    "            if mid == 0:\n",
    "                return 0 if nums[0] >= nums[1] else 1\n",
    "            if mid == end:\n",
    "                return end - 1 if nums[end - 1] >= nums[end - 2] else end - 2\n",
    "\n",
    "            if nums[mid] > nums[mid + 1] and nums[mid] > nums[mid - 1]:\n",
    "                return mid\n",
    "            if nums[mid] < nums[mid - 1]:\n",
    "                end = mid - 1\n",
    "            else:\n",
    "                start = mid + 1\n",
    "        return start\n",
    "print(findPeakElement( [1,2,3,1]))"
   ]
  },
  {
   "cell_type": "markdown",
   "id": "d046a436",
   "metadata": {},
   "source": [
    "# Question 3\n",
    "\n",
    "****\n",
    "\n",
    "Given an array `nums` containing `n` distinct numbers in the range `[0, n]`, return *the only number in the range that is missing from the array.*\n",
    "\n",
    "**Example 1:**\n",
    "\n",
    "Input: nums = [3,0,1]\n",
    "\n",
    "Output: 2\n",
    "\n",
    "Explanation: n = 3 since there are 3 numbers, so all numbers are in the range [0,3]. 2 is the missing number in the range since \n",
    "\n",
    "it does not appear in nums.\n"
   ]
  },
  {
   "cell_type": "code",
   "execution_count": 5,
   "id": "1b6b9a05",
   "metadata": {},
   "outputs": [
    {
     "name": "stdout",
     "output_type": "stream",
     "text": [
      "2\n"
     ]
    }
   ],
   "source": [
    "from typing import List\n",
    "def missingNumber(nums: List[int]) -> int:\n",
    "        n = len(nums) + 1\n",
    "        total = (n * (n-1)) // 2\n",
    "        \n",
    "        for num in nums:\n",
    "            total -= num\n",
    "        \n",
    "        return total\n",
    "print(missingNumber([3,0,1]))"
   ]
  },
  {
   "cell_type": "markdown",
   "id": "43303188",
   "metadata": {},
   "source": [
    "# Question 4\n",
    "\n",
    "Given an array of integers `nums` containing `n + 1` integers where each integer is in the range `[1, n]` inclusive.\n",
    "\n",
    "There is only **one repeated number** in `nums`, return *this repeated number*.\n",
    "\n",
    "You must solve the problem **without** modifying the array `nums` and uses only constant extra space.\n",
    "\n",
    "**Example 1:**\n",
    "\n",
    "Input: nums = [1,3,4,2,2]\n",
    "\n",
    "Output: 2\n",
    "\n"
   ]
  },
  {
   "cell_type": "code",
   "execution_count": 7,
   "id": "3894cd11",
   "metadata": {},
   "outputs": [
    {
     "name": "stdout",
     "output_type": "stream",
     "text": [
      "2\n"
     ]
    }
   ],
   "source": [
    "from typing import List\n",
    "def findDuplicate(nums: List[int]) -> int:\n",
    "   \n",
    "    t = nums[0]\n",
    "    h = nums[0]\n",
    "    \n",
    "    \n",
    "    while True:\n",
    "        t = nums[t]\n",
    "        h = nums[nums[h]]\n",
    "        if t == h:\n",
    "            break\n",
    "    \n",
    "    \n",
    "    t = nums[0]\n",
    "    \n",
    "    while t != h:\n",
    "        t = nums[t]\n",
    "        h= nums[h]\n",
    "    \n",
    "    \n",
    "    return t\n",
    "print(findDuplicate([1,3,4,2,2]))"
   ]
  },
  {
   "cell_type": "markdown",
   "id": "6daeeeec",
   "metadata": {},
   "source": [
    "# Question 5\n",
    "\n",
    "Given two integer arrays `nums1` and `nums2`, return *an array of their intersection*. Each element in the result must be **unique** and you may return the result in **any order**.\n",
    "\n",
    "**Example 1:**\n",
    "\n",
    "\n",
    "Input: nums1 = [1,2,2,1], nums2 = [2,2]\n",
    "\n",
    "Output: [2]\n"
   ]
  },
  {
   "cell_type": "code",
   "execution_count": 9,
   "id": "73be3e19",
   "metadata": {},
   "outputs": [
    {
     "name": "stdout",
     "output_type": "stream",
     "text": [
      "[2]\n"
     ]
    }
   ],
   "source": [
    "from typing import List\n",
    "\n",
    "def intersection(nums1: List[int], nums2: List[int]) -> List[int]:\n",
    "        \n",
    "        nums1_set = set(nums1)\n",
    "       \n",
    "        intersection_set = set()\n",
    "        \n",
    "        for num in nums2:\n",
    "            if num in nums1_set:\n",
    "                intersection_set.add(num)\n",
    "       \n",
    "        return list(intersection_set)\n",
    "print(intersection([1,2,2,1],[2,2]))"
   ]
  },
  {
   "cell_type": "markdown",
   "id": "755aa76e",
   "metadata": {},
   "source": [
    "# Question 6\n",
    "\n",
    "Suppose an array of length `n` sorted in ascending order is **rotated** between `1` and `n` times. For example, the array `nums = [0,1,2,4,5,6,7]` might become:\n",
    "\n",
    "- `[4,5,6,7,0,1,2]` if it was rotated `4` times.\n",
    "- `[0,1,2,4,5,6,7]` if it was rotated `7` times.\n",
    "\n",
    "Notice that **rotating** an array `[a[0], a[1], a[2], ..., a[n-1]]` 1 time results in the array `[a[n-1], a[0], a[1], a[2], ..., a[n-2]]`.\n",
    "\n",
    "Given the sorted rotated array `nums` of **unique** elements, return *the minimum element of this array*.\n",
    "\n",
    "You must write an algorithm that runs in `O(log n) time.`\n",
    "\n",
    "**Example 1:**\n",
    "\n",
    "Input: nums = [3,4,5,1,2]\n",
    "\n",
    "Output: 1\n",
    "\n",
    "Explanation: The original array was [1,2,3,4,5] rotated 3 times.\n"
   ]
  },
  {
   "cell_type": "code",
   "execution_count": 11,
   "id": "922c2cf6",
   "metadata": {},
   "outputs": [
    {
     "name": "stdout",
     "output_type": "stream",
     "text": [
      "1\n"
     ]
    }
   ],
   "source": [
    "from typing import List\n",
    "def findMin( nums: List[int]) -> int:\n",
    "        low,high=0,len(nums)-1\n",
    "        n=len(nums)\n",
    "        while low<=high:\n",
    "            mid=low+(high-low)//2\n",
    "            if nums[mid]<=nums[(mid-1+n)%n] and nums[mid]<=nums[(mid+1)%n]:\n",
    "                return nums[mid]\n",
    "            if nums[mid]>=nums[low]:\n",
    "                if nums[high]>=nums[mid]:\n",
    "                    high=mid-1\n",
    "                else:\n",
    "                    low=mid+1\n",
    "            else:\n",
    "                high=mid-1\n",
    "\n",
    "        return -1\n",
    "print(findMin([3,4,5,1,2]))"
   ]
  },
  {
   "cell_type": "markdown",
   "id": "a32e854a",
   "metadata": {},
   "source": [
    "# Question 7\n",
    "\n",
    "Given an array of integers `nums` sorted in non-decreasing order, find the starting and ending position of a given `target` value.\n",
    "\n",
    "If `target` is not found in the array, return `[-1, -1]`.\n",
    "\n",
    "You must write an algorithm with `O(log n)` runtime complexity.\n",
    "\n",
    "**Example 1:**\n",
    "\n",
    "Input: nums = [5,7,7,8,8,10], target = 8\n",
    "\n",
    "Output: [3,4]\n"
   ]
  },
  {
   "cell_type": "code",
   "execution_count": 15,
   "id": "e803b501",
   "metadata": {},
   "outputs": [
    {
     "name": "stdout",
     "output_type": "stream",
     "text": [
      "[3, 4]\n"
     ]
    }
   ],
   "source": [
    "from typing import List\n",
    "def searchRange(nums, target):\n",
    "       \n",
    "        startingPos = -1\n",
    "        endingPos = -1\n",
    "        m = len(nums)\n",
    "        if (m != 0) and (target>=nums[0]) and (target<=nums[m-1]):\n",
    "            for i in range(m):\n",
    "                if startingPos == -1:\n",
    "                    if nums[i] == target:\n",
    "                        startingPos = i\n",
    "                        endingPos = i    \n",
    "                elif nums[i] == target:\n",
    "                    endingPos = i\n",
    "                else:     \n",
    "                    break\n",
    "        return [startingPos, endingPos]\n",
    "print(searchRange( [5,7,7,8,8,10],8))"
   ]
  },
  {
   "cell_type": "markdown",
   "id": "5fb0b593",
   "metadata": {},
   "source": [
    "# Question 8\n",
    "\n",
    "Given two integer arrays `nums1` and `nums2`, return *an array of their intersection*. Each element in the result must appear as many times as it shows in both arrays and you may return the result in **any order**.\n",
    "\n",
    "**Example 1:**\n",
    "\n",
    "\n",
    "Input: nums1 = [1,2,2,1], nums2 = [2,2]\n",
    "\n",
    "Output: [2,2]\n"
   ]
  },
  {
   "cell_type": "code",
   "execution_count": 17,
   "id": "84d07d06",
   "metadata": {},
   "outputs": [
    {
     "name": "stdout",
     "output_type": "stream",
     "text": [
      "[2, 2]\n"
     ]
    }
   ],
   "source": [
    "def intersect( nums1, nums2):\n",
    "\n",
    "        nums1, nums2 = sorted(nums1), sorted(nums2)\n",
    "        pt1 = pt2 = 0\n",
    "        res = []\n",
    "\n",
    "        while True:\n",
    "            try:\n",
    "                if nums1[pt1] > nums2[pt2]:\n",
    "                    pt2 += 1\n",
    "                elif nums1[pt1] < nums2[pt2]:\n",
    "                    pt1 += 1\n",
    "                else:\n",
    "                    res.append(nums1[pt1])\n",
    "                    pt1 += 1\n",
    "                    pt2 += 1\n",
    "            except IndexError:\n",
    "                break\n",
    "\n",
    "        return res\n",
    "print(intersect([1,2,2,1],[2,2]))"
   ]
  },
  {
   "cell_type": "code",
   "execution_count": null,
   "id": "ae42d237",
   "metadata": {},
   "outputs": [],
   "source": []
  }
 ],
 "metadata": {
  "kernelspec": {
   "display_name": "Python 3 (ipykernel)",
   "language": "python",
   "name": "python3"
  },
  "language_info": {
   "codemirror_mode": {
    "name": "ipython",
    "version": 3
   },
   "file_extension": ".py",
   "mimetype": "text/x-python",
   "name": "python",
   "nbconvert_exporter": "python",
   "pygments_lexer": "ipython3",
   "version": "3.9.7"
  }
 },
 "nbformat": 4,
 "nbformat_minor": 5
}
