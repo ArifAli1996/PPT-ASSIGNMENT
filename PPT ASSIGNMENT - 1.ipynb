{
 "cells": [
  {
   "cell_type": "markdown",
   "id": "e2ad2075",
   "metadata": {},
   "source": [
    "## PPT ASSIGNMENT 1"
   ]
  },
  {
   "cell_type": "markdown",
   "id": "9909df6a",
   "metadata": {},
   "source": [
    "\n",
    "💡 **Q1.** Given an array of integers nums and an integer target, return indices of the two numbers such that they add up to target.\n",
    "\n",
    "You may assume that each input would have exactly one solution, and you may not use the same element twice.\n",
    "\n",
    "You can return the answer in any order.\n",
    "\n",
    "**Example:**\n",
    "Input: nums = [2,7,11,15], target = 9\n",
    "Output0 [0,1]\n",
    "\n",
    "**Explanation:** Because nums[0] + nums[1] == 9, we return [0, 1][\n",
    "\n"
   ]
  },
  {
   "cell_type": "code",
   "execution_count": 19,
   "id": "9671f0b3",
   "metadata": {},
   "outputs": [
    {
     "name": "stdout",
     "output_type": "stream",
     "text": [
      "[0, 1]\n"
     ]
    }
   ],
   "source": [
    "from typing import List\n",
    "def twoSum(num:List[int], target:int)->List[int]:\n",
    "    for i in range(len(num)):\n",
    "        for j in range(i+1,len(num)):\n",
    "            if target == num[i]+num[j]:\n",
    "                return [i,j]\n",
    "num = [2,7,11,15]\n",
    "target = 9\n",
    "\n",
    "print(twoSum(num,target))"
   ]
  },
  {
   "cell_type": "markdown",
   "id": "f3af4115",
   "metadata": {},
   "source": [
    "\n",
    "💡 **Q2.** Given an integer array nums and an integer val, remove all occurrences of val in nums in-place. The order of the elements may be changed. Then return the number of elements in nums which are not equal to val.\n",
    "\n",
    "Consider the number of elements in nums which are not equal to val be k, to get accepted, you need to do the following things:\n",
    "\n",
    "- Change the array nums such that the first k elements of nums contain the elements which are not equal to val. The remaining elements of nums are not important as well as the size of nums.\n",
    "- Return k.\n",
    "\n",
    "**Example :**\n",
    "Input: nums = [3,2,2,3], val = 3\n",
    "Output: 2, nums = [2,2,_*,_*]\n",
    "\n",
    "**Explanation:** Your function should return k = 2, with the first two elements of nums being 2. It does not matter what you leave beyond the returned k (hence they are underscores)[\n",
    "\n"
   ]
  },
  {
   "cell_type": "code",
   "execution_count": 20,
   "id": "11ee8131",
   "metadata": {},
   "outputs": [
    {
     "name": "stdout",
     "output_type": "stream",
     "text": [
      "2\n"
     ]
    }
   ],
   "source": [
    "from typing import List\n",
    "\n",
    "\n",
    "class RemoveElement:\n",
    "    @staticmethod\n",
    "    def removeElement(nums: List[int], val: int) -> int:\n",
    "\n",
    "        count = 0\n",
    "\n",
    "        for i in range(len(nums)):\n",
    "            if nums[i] != val:\n",
    "\n",
    "                nums[count] = nums[i]\n",
    "                count += 1\n",
    "        return count\n",
    "\n",
    "\n",
    "if __name__ == '__main__':\n",
    "    r = RemoveElement()\n",
    "    print(r.removeElement([2, 3, 3, 2], 3))\n",
    "    "
   ]
  },
  {
   "cell_type": "markdown",
   "id": "dc51427a",
   "metadata": {},
   "source": [
    "\n",
    "💡 3. Given a sorted array of distinct integers and a target value, return the index if the target is found. If not, return the index where it would be if it were inserted in order.\n",
    "\n",
    "You must write an algorithm with O(log n) runtime complexity.\n",
    "\n",
    "**Example 1:**\n",
    "Input: nums = [1,3,5,6], target = 5\n",
    "\n",
    "Output: 2\n",
    "\n"
   ]
  },
  {
   "cell_type": "code",
   "execution_count": 22,
   "id": "2256dabe",
   "metadata": {},
   "outputs": [
    {
     "name": "stdout",
     "output_type": "stream",
     "text": [
      "2\n"
     ]
    }
   ],
   "source": [
    "def find_index(arr, n, target):\n",
    "\n",
    "    for i in range(n):\n",
    "\n",
    "\n",
    "        if arr[i] == target:\n",
    "            return i\n",
    "\n",
    "\n",
    "        elif arr[i] > target:\n",
    "            return i\n",
    "\n",
    "\n",
    "    return n\n",
    "\n",
    "arr = [1, 3, 5, 6]\n",
    "n = len(arr)\n",
    "target = 5\n",
    "print(find_index(arr, n, target))"
   ]
  },
  {
   "cell_type": "markdown",
   "id": "4561d85c",
   "metadata": {},
   "source": [
    "\n",
    "💡 **Q4.** You are given a large integer represented as an integer array digits, where each digits[i] is the ith digit of the integer. The digits are ordered from most significant to least significant in left-to-right order. The large integer does not contain any leading 0's.\n",
    "\n",
    "Increment the large integer by one and return the resulting array of digits.\n",
    "\n",
    "\n",
    "**Example 1:**\n",
    "Input: digits = [1,2,3]\n",
    "Output: [1,2,4]\n",
    "\n",
    "**Explanation:** The array represents the integer 123.\n",
    "\n",
    "Incrementing by one gives 123 + 1 = 124.\n",
    "Thus, the result should be [1,2,4].\n",
    "\n"
   ]
  },
  {
   "cell_type": "code",
   "execution_count": 23,
   "id": "eaa2c95d",
   "metadata": {},
   "outputs": [
    {
     "name": "stdout",
     "output_type": "stream",
     "text": [
      "[1, 2, 4]\n"
     ]
    }
   ],
   "source": [
    "class Solution(object):\n",
    "    def plusOne( digits):\n",
    "      \n",
    "        digit_length = len(digits)\n",
    "\n",
    "        i = digit_length - 1\n",
    "\n",
    "        while digits[i] == 9 and i >= 0:\n",
    "            i -= 1\n",
    "\n",
    "        if i == -1:\n",
    "            results = [0] * (digit_length + 1)\n",
    "            results[0] = 1\n",
    "            return results\n",
    "\n",
    "        results = [0] * (digit_length)\n",
    "\n",
    "        results[i] = digits[i] + 1\n",
    "\n",
    "        for j in range(i - 1, -1, -1):\n",
    "            results[j] = digits[j]\n",
    "\n",
    "        return results\n",
    "digits =[1,2,3]\n",
    "print(Solution.plusOne(digits))"
   ]
  },
  {
   "cell_type": "markdown",
   "id": "26c02191",
   "metadata": {},
   "source": [
    "\n",
    "💡 **Q5.** You are given two integer arrays nums1 and nums2, sorted in non-decreasing order, and two integers m and n, representing the number of elements in nums1 and nums2 respectively.\n",
    "\n",
    "Merge nums1 and nums2 into a single array sorted in non-decreasing order.\n",
    "\n",
    "The final sorted array should not be returned by the function, but instead be stored inside the array nums1. To accommodate this, nums1 has a length of m + n, where the first m elements denote the elements that should be merged, and the last n elements are set to 0 and should be ignored. nums2 has a length of n.\n",
    "\n",
    "**Example 1:**\n",
    "Input: nums1 = [1,2,3,0,0,0], m = 3, nums2 = [2,5,6], n = 3\n",
    "Output: [1,2,2,3,5,6]\n",
    "\n",
    "**Explanation:** The arrays we are merging are [1,2,3] and [2,5,6].\n",
    "The result of the merge is [1,2,2,3,5,6] with the underlined elements coming from nums1.\n",
    "\n"
   ]
  },
  {
   "cell_type": "code",
   "execution_count": 24,
   "id": "82d3f793",
   "metadata": {},
   "outputs": [
    {
     "name": "stdout",
     "output_type": "stream",
     "text": [
      "Array after merging\n",
      "1 2 2 3 5 6 "
     ]
    }
   ],
   "source": [
    "def mergeArrays(arr1, arr2, n1, n2, res):\n",
    "    i = 0\n",
    "    j = 0\n",
    "    k = 0\n",
    "\n",
    "    while (i < n1):\n",
    "        res[k] = arr1[i]\n",
    "        k += 1\n",
    "        i += 1\n",
    "\n",
    "\n",
    "    while (j < n2):\n",
    "        res[k] = arr2[j]\n",
    "        k += 1\n",
    "        j += 1\n",
    "\n",
    "\n",
    "    res.sort()\n",
    "\n",
    "\n",
    "\n",
    "if __name__ == '__main__':\n",
    "    arr1 = [1,2,3,0,0,0]\n",
    "    n1 = 3\n",
    "\n",
    "    arr2 = [2,5,6]\n",
    "    n2 = 3\n",
    "\n",
    "    res = [0 for i in range(n1 + n2)]\n",
    "    mergeArrays(arr1, arr2, n1, n2, res)\n",
    "\n",
    "    print(\"Array after merging\")\n",
    "    for i in range(n1 + n2):\n",
    "        print(res[i], end=\" \")"
   ]
  },
  {
   "cell_type": "markdown",
   "id": "342102af",
   "metadata": {},
   "source": [
    "\n",
    "💡 **Q6.** Given an integer array nums, return true if any value appears at least twice in the array, and return false if every element is distinct.\n",
    "\n",
    "**Example 1:**\n",
    "Input: nums = [1,2,3,1]\n",
    "\n",
    "Output: true\n",
    "\n"
   ]
  },
  {
   "cell_type": "code",
   "execution_count": 25,
   "id": "b9cb6182",
   "metadata": {},
   "outputs": [
    {
     "name": "stdout",
     "output_type": "stream",
     "text": [
      "True\n"
     ]
    }
   ],
   "source": [
    "from typing import List\n",
    "class Solution:\n",
    "    def containsDuplicate(nums: List[int]) -> bool:\n",
    "        nums.sort()\n",
    "        for i in range(1, len(nums)):\n",
    "            if nums[i] == nums[i - 1]:\n",
    "                return True\n",
    "        return False\n",
    "nums=[1,2,3,1]\n",
    "print(Solution.containsDuplicate(nums))"
   ]
  },
  {
   "cell_type": "code",
   "execution_count": 26,
   "id": "16700258",
   "metadata": {},
   "outputs": [
    {
     "name": "stdout",
     "output_type": "stream",
     "text": [
      "False\n"
     ]
    }
   ],
   "source": [
    "from typing import List\n",
    "class Solution:\n",
    "    def containsDuplicate(nums: List[int]) -> bool:\n",
    "        nums.sort()\n",
    "        for i in range(1, len(nums)):\n",
    "            if nums[i] == nums[i - 1]:\n",
    "                return True\n",
    "        return False\n",
    "nums=[1,2,3,4]\n",
    "print(Solution.containsDuplicate(nums))"
   ]
  },
  {
   "cell_type": "markdown",
   "id": "b827e0c0",
   "metadata": {},
   "source": [
    "\n",
    "💡 **Q7.** Given an integer array nums, move all 0's to the end of it while maintaining the relative order of the nonzero elements.\n",
    "\n",
    "Note that you must do this in-place without making a copy of the array.\n",
    "\n",
    "**Example 1:**\n",
    "Input: nums = [0,1,0,3,12]\n",
    "Output: [1,3,12,0,0]\n",
    "\n"
   ]
  },
  {
   "cell_type": "code",
   "execution_count": 28,
   "id": "cbb9420a",
   "metadata": {},
   "outputs": [
    {
     "name": "stdout",
     "output_type": "stream",
     "text": [
      "Array after pushing all zeros to end of array:\n",
      "[1, 3, 12, 0, 0]\n"
     ]
    }
   ],
   "source": [
    "def question7(arr, n):\n",
    "    count = 0\n",
    "    for i in range(n):\n",
    "        if arr[i] != 0:\n",
    "\n",
    "            arr[count] = arr[i]\n",
    "            count += 1\n",
    "\n",
    "    while count < n:\n",
    "        arr[count] = 0\n",
    "        count += 1\n",
    "\n",
    "\n",
    "\n",
    "arr = [0,1,0,3,12]\n",
    "n = len(arr)\n",
    "question7(arr, n)\n",
    "print(\"Array after pushing all zeros to end of array:\")\n",
    "print(arr)"
   ]
  },
  {
   "cell_type": "markdown",
   "id": "b0cb9687",
   "metadata": {},
   "source": [
    "\n",
    "💡 **Q8.** You have a set of integers s, which originally contains all the numbers from 1 to n. Unfortunately, due to some error, one of the numbers in s got duplicated to another number in the set, which results in repetition of one number and loss of another number.\n",
    "\n",
    "You are given an integer array nums representing the data status of this set after the error.\n",
    "\n",
    "Find the number that occurs twice and the number that is missing and return them in the form of an array.\n",
    "\n",
    "**Example 1:**\n",
    "Input: nums = [1,2,2,4]\n",
    "Output: [2,3]\n",
    "\n"
   ]
  },
  {
   "cell_type": "code",
   "execution_count": 29,
   "id": "0815a912",
   "metadata": {},
   "outputs": [
    {
     "name": "stdout",
     "output_type": "stream",
     "text": [
      "[2, 3]\n"
     ]
    }
   ],
   "source": [
    "from typing import List\n",
    "class Solution:\n",
    "    def findErrorNums(nums: List[int]) -> List[int]:\n",
    "        N, dupe = len(nums), 0\n",
    "        seen, sumN = [0] * (N+1), N * (N+1) // 2\n",
    "        for num in nums:\n",
    "            sumN -= num\n",
    "            if seen[num]: dupe = num\n",
    "            seen[num] += 1\n",
    "        return [dupe, sumN + dupe]\n",
    "nums=[1,2,2,4]\n",
    "print(Solution.findErrorNums(nums))\n",
    "\n"
   ]
  },
  {
   "cell_type": "code",
   "execution_count": null,
   "id": "7e32d677",
   "metadata": {},
   "outputs": [],
   "source": []
  }
 ],
 "metadata": {
  "kernelspec": {
   "display_name": "Python 3 (ipykernel)",
   "language": "python",
   "name": "python3"
  },
  "language_info": {
   "codemirror_mode": {
    "name": "ipython",
    "version": 3
   },
   "file_extension": ".py",
   "mimetype": "text/x-python",
   "name": "python",
   "nbconvert_exporter": "python",
   "pygments_lexer": "ipython3",
   "version": "3.9.7"
  }
 },
 "nbformat": 4,
 "nbformat_minor": 5
}
