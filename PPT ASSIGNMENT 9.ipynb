{
 "cells": [
  {
   "cell_type": "markdown",
   "id": "bb06913d",
   "metadata": {},
   "source": [
    "# PPT ASSIGNMENT 9"
   ]
  },
  {
   "cell_type": "markdown",
   "id": "8f1b3672",
   "metadata": {},
   "source": [
    "# Question 1\n",
    "\n",
    "Given an integer `n`, return *`true` if it is a power of two. Otherwise, return `false`*.\n",
    "\n",
    "An integer `n` is a power of two, if there exists an integer `x` such that `n == 2x`.\n",
    "\n",
    "**Example 1:**\n",
    "Input: n = 1 \n",
    "\n",
    "Output: true\n",
    "\n",
    "**Example 2:**\n",
    "Input: n = 16 \n",
    "\n",
    "Output: true\n",
    "\n",
    "**Example 3:**\n",
    "Input: n = 3 \n",
    "\n",
    "Output: false\n"
   ]
  },
  {
   "cell_type": "code",
   "execution_count": 1,
   "id": "8d3db822",
   "metadata": {},
   "outputs": [
    {
     "name": "stdout",
     "output_type": "stream",
     "text": [
      "True\n"
     ]
    }
   ],
   "source": [
    " def isPowerOfTwo(n):\n",
    "        \n",
    "        if n <= 0:\n",
    "            return False\n",
    "        if n == 1:\n",
    "            return True\n",
    "        \n",
    "        while (n % 2 == 0):\n",
    "            n /= 2\n",
    "       \n",
    "        return n == 1\n",
    "print(isPowerOfTwo(16))"
   ]
  },
  {
   "cell_type": "markdown",
   "id": "39249e4e",
   "metadata": {},
   "source": [
    "# Question 2\n",
    "\n",
    "Given a number n, find the sum of the first natural numbers.\n",
    "\n",
    "**Example 1:**\n",
    "\n",
    "Input: n = 3 \n",
    "\n",
    "Output: 6\n",
    "\n",
    "**Example 2:**\n",
    "\n",
    "Input  : 5 \n",
    "\n",
    "Output : 15\n"
   ]
  },
  {
   "cell_type": "code",
   "execution_count": 3,
   "id": "5a1afdae",
   "metadata": {},
   "outputs": [
    {
     "name": "stdout",
     "output_type": "stream",
     "text": [
      "15\n"
     ]
    }
   ],
   "source": [
    "def findSum(n):\n",
    "    sum = 0\n",
    "    x = 1\n",
    "    while x <= n:\n",
    "        sum = sum + x\n",
    "        x = x + 1\n",
    "    return sum\n",
    " \n",
    " \n",
    "\n",
    "n = 5\n",
    "print(findSum(n))"
   ]
  },
  {
   "cell_type": "markdown",
   "id": "f1516822",
   "metadata": {},
   "source": [
    "# Question 3\n",
    "\n",
    "****Given a positive integer, N. Find the factorial of N. \n",
    "\n",
    "**Example 1:**\n",
    "\n",
    "Input: N = 5 \n",
    "\n",
    "Output: 120\n",
    "\n",
    "**Example 2:**\n",
    "\n",
    "Input: N = 4\n",
    "\n",
    "Output: 24\n",
    "\n"
   ]
  },
  {
   "cell_type": "code",
   "execution_count": 5,
   "id": "5a3ed2f2",
   "metadata": {},
   "outputs": [
    {
     "name": "stdout",
     "output_type": "stream",
     "text": [
      "enter the Value : 4\n",
      "Factorial of 4 is 24\n"
     ]
    }
   ],
   "source": [
    "def factorial(n):\n",
    "       \n",
    "    if n == 0:\n",
    "        return 1\n",
    "      \n",
    "    return n * factorial(n-1)\n",
    "   \n",
    "num = int(input(\"enter the Value : \"));\n",
    "print(\"Factorial of\", num, \"is\",\n",
    "factorial(num))"
   ]
  },
  {
   "cell_type": "markdown",
   "id": "3cc7b5de",
   "metadata": {},
   "source": [
    "# Question 4\n",
    "\n",
    "Given a number N and a power P, the task is to find the exponent of this number raised to the given power, i.e. N^P.\n",
    "\n",
    "**Example 1 :** \n",
    "\n",
    "Input: N = 5, P = 2\n",
    "\n",
    "Output: 25\n",
    "\n",
    "**Example 2 :**\n",
    "Input: N = 2, P = 5\n",
    "\n",
    "Output: 32\n"
   ]
  },
  {
   "cell_type": "code",
   "execution_count": 6,
   "id": "7bae0c4a",
   "metadata": {},
   "outputs": [
    {
     "name": "stdout",
     "output_type": "stream",
     "text": [
      "enter the Number: 2\n",
      "enter the power : 5\n",
      "32\n"
     ]
    }
   ],
   "source": [
    "def power(N, P):\n",
    "    if P == 0:\n",
    "        return 1\n",
    " \n",
    "    return (N*power(N, P-1))\n",
    " \n",
    " \n",
    "\n",
    "if __name__ == '__main__':\n",
    "    N = int(input(\"enter the Number: \"));\n",
    "    P = int(input(\"enter the power : \"));\n",
    " \n",
    "    print(power(N, P))"
   ]
  },
  {
   "cell_type": "markdown",
   "id": "57192272",
   "metadata": {},
   "source": [
    "# Question 5\n",
    "\n",
    "Given an array of integers **arr**, the task is to find maximum element of that array using recursion.\n",
    "\n",
    "**Example 1:**\n",
    "\n",
    "Input: arr = {1, 4, 3, -5, -4, 8, 6};\n",
    "Output: 8\n",
    "\n",
    "**Example 2:**\n",
    "\n",
    "Input: arr = {1, 4, 45, 6, 10, -8};\n",
    "Output: 45\n"
   ]
  },
  {
   "cell_type": "code",
   "execution_count": 8,
   "id": "e98fbaf8",
   "metadata": {},
   "outputs": [
    {
     "name": "stdout",
     "output_type": "stream",
     "text": [
      "8\n"
     ]
    }
   ],
   "source": [
    "def findMaxRec(Arr, output):\n",
    " \n",
    "    if (output== 1):\n",
    "        return Arr[0]\n",
    "    return max(Arr[output - 1], findMaxRec(Arr, output - 1))\n",
    " \n",
    "\n",
    "if __name__ == \"__main__\":\n",
    "     \n",
    "    Arr = [1, 4, 3, -5, -4, 8, 6]\n",
    "    output = len(Arr)\n",
    "    print(findMaxRec(Arr, output))"
   ]
  },
  {
   "cell_type": "markdown",
   "id": "274b7cf1",
   "metadata": {},
   "source": [
    "# Question 6\n",
    "\n",
    "Given first term (a), common difference (d) and a integer N of the Arithmetic Progression series, the task is to find Nth term of the series.\n",
    "\n",
    "**Example 1:**\n",
    "\n",
    "Input : a = 2 d = 1 N = 5\n",
    "Output : 6\n",
    "The 5th term of the series is : 6\n",
    "\n",
    "**Example 2:**\n",
    "\n",
    "Input : a = 5 d = 2 N = 10\n",
    "Output : 23\n",
    "The 10th term of the series is : 23\n"
   ]
  },
  {
   "cell_type": "code",
   "execution_count": 9,
   "id": "2fc2e7d3",
   "metadata": {},
   "outputs": [
    {
     "name": "stdout",
     "output_type": "stream",
     "text": [
      "The  5 th term of the series is :  6\n"
     ]
    }
   ],
   "source": [
    "def Nth_of_AP(a, d, N) :\n",
    " \n",
    "    return (a + (N - 1) * d)\n",
    "      \n",
    "  \n",
    "\n",
    "a = 2  \n",
    "d = 1  \n",
    "N = 5  \n",
    "  \n",
    "\n",
    "print( \"The \", N ,\"th term of the series is : \",\n",
    "       Nth_of_AP(a, d, N))"
   ]
  },
  {
   "cell_type": "markdown",
   "id": "9a4d27ee",
   "metadata": {},
   "source": [
    "# Question 7\n",
    "\n",
    "Given a string S, the task is to write a program to print all permutations of a given string.\n",
    "\n",
    "**Example 1:**\n",
    "\n",
    "***Input:***\n",
    "\n",
    "*S = “ABC”*\n",
    "\n",
    "***Output:***\n",
    "\n",
    "*“ABC”, “ACB”, “BAC”, “BCA”, “CBA”, “CAB”*\n",
    "\n",
    "**Example 2:**\n",
    "\n",
    "***Input:***\n",
    "\n",
    "*S = “XY”*\n",
    "\n",
    "***Output:***\n",
    "\n",
    "*“XY”, “YX”*\n"
   ]
  },
  {
   "cell_type": "code",
   "execution_count": 10,
   "id": "bbdaf183",
   "metadata": {},
   "outputs": [
    {
     "name": "stdout",
     "output_type": "stream",
     "text": [
      "ABC\n",
      "ACB\n",
      "BAC\n",
      "BCA\n",
      "CBA\n",
      "CAB\n"
     ]
    }
   ],
   "source": [
    "def toString(List):\n",
    "    return ''.join(List)\n",
    " \n",
    "\n",
    " \n",
    "def permute(a, l, r):\n",
    "    if l == r:\n",
    "        print(toString(a))\n",
    "    else:\n",
    "        for i in range(l, r):\n",
    "            a[l], a[i] = a[i], a[l]\n",
    "            permute(a, l+1, r)\n",
    "            a[l], a[i] = a[i], a[l]  \n",
    " \n",
    " \n",
    "string = \"ABC\"\n",
    "n = len(string)\n",
    "a = list(string)\n",
    " \n",
    "\n",
    "permute(a, 0, n)"
   ]
  },
  {
   "cell_type": "markdown",
   "id": "e26fa559",
   "metadata": {},
   "source": [
    "# Question 8\n",
    "\n",
    "Given an array, find a product of all array elements.\n",
    "\n",
    "**Example 1:**\n",
    "\n",
    "Input  : arr[] = {1, 2, 3, 4, 5}\n",
    "Output : 120\n",
    "\n",
    "**Example 2:**\n",
    "\n",
    "Input  : arr[] = {1, 6, 3}\n",
    "Output : 18\n"
   ]
  },
  {
   "cell_type": "code",
   "execution_count": 13,
   "id": "d391b445",
   "metadata": {},
   "outputs": [
    {
     "name": "stdout",
     "output_type": "stream",
     "text": [
      "Array 1:\n",
      "1 2 3 4 5 \n",
      "Product of the array elements: 120\n"
     ]
    }
   ],
   "source": [
    "\n",
    "def findProduct(arr, size):\n",
    "    result = 1\n",
    "    for i in range(size):\n",
    "        result = result * arr[i]\n",
    "    return result\n",
    "\n",
    "def printListElements(arr, size):\n",
    "    for i in range(size):\n",
    "        print(arr[i], end=\" \")\n",
    "    print()\n",
    "\n",
    "arr1 = [1, 2, 3, 4, 5]\n",
    "size1 = len(arr1)\n",
    "print(\"Array 1:\")\n",
    "printListElements(arr1, size1)\n",
    "print(\"Product of the array elements:\", findProduct(arr1, size1))"
   ]
  },
  {
   "cell_type": "code",
   "execution_count": null,
   "id": "bb557a9f",
   "metadata": {},
   "outputs": [],
   "source": []
  }
 ],
 "metadata": {
  "kernelspec": {
   "display_name": "Python 3 (ipykernel)",
   "language": "python",
   "name": "python3"
  },
  "language_info": {
   "codemirror_mode": {
    "name": "ipython",
    "version": 3
   },
   "file_extension": ".py",
   "mimetype": "text/x-python",
   "name": "python",
   "nbconvert_exporter": "python",
   "pygments_lexer": "ipython3",
   "version": "3.9.7"
  }
 },
 "nbformat": 4,
 "nbformat_minor": 5
}
