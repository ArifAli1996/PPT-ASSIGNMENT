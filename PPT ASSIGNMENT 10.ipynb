{
 "cells": [
  {
   "cell_type": "markdown",
   "id": "6b9f3d05",
   "metadata": {},
   "source": [
    "# PPT ASSIGNMENT 10"
   ]
  },
  {
   "cell_type": "markdown",
   "id": "49746a47",
   "metadata": {},
   "source": [
    "# Question 1\n",
    "\n",
    "Given an integer `n`, return *`true` if it is a power of three. Otherwise, return `false`*.\n",
    "\n",
    "An integer `n` is a power of three, if there exists an integer `x` such that `n == 3x`.\n",
    "\n",
    "**Example 1:**\n",
    "\n",
    "```\n",
    "Input: n = 27\n",
    "Output: true\n",
    "Explanation: 27 = 33\n",
    "```\n",
    "\n",
    "**Example 2:**\n",
    "\n",
    "```\n",
    "Input: n = 0\n",
    "Output: false\n",
    "Explanation: There is no x where 3x = 0.\n",
    "\n",
    "```\n",
    "\n",
    "**Example 3:**\n",
    "\n",
    "Input: n = -1\n",
    "\n",
    "Output: false\n",
    "\n",
    "Explanation: There is no x where 3x = (-1).\n"
   ]
  },
  {
   "cell_type": "code",
   "execution_count": 2,
   "id": "bceeaea4",
   "metadata": {},
   "outputs": [
    {
     "name": "stdout",
     "output_type": "stream",
     "text": [
      "True\n"
     ]
    }
   ],
   "source": [
    "def isPowerOfThree(n):\n",
    "        \n",
    "        if n == 1:\n",
    "            return True\n",
    "        elif n < 3:\n",
    "            return False\n",
    "        \n",
    "        if not n%3:\n",
    "            return isPowerOfThree(n/3)\n",
    "        return False\n",
    "print(isPowerOfThree(27))"
   ]
  },
  {
   "cell_type": "markdown",
   "id": "752d7c49",
   "metadata": {},
   "source": [
    "# Question 2\n",
    "\n",
    "You have a list `arr` of all integers in the range `[1, n]` sorted in a strictly increasing order. Apply the following algorithm on `arr`:\n",
    "\n",
    "- Starting from left to right, remove the first number and every other number afterward until you reach the end of the list.\n",
    "- Repeat the previous step again, but this time from right to left, remove the rightmost number and every other number from the remaining numbers.\n",
    "- Keep repeating the steps again, alternating left to right and right to left, until a single number remains.\n",
    "\n",
    "Given the integer `n`, return *the last number that remains in* `arr`.\n",
    "\n",
    "**Example 1:**\n",
    "\n",
    "\n",
    "Input: n = 9\n",
    "\n",
    "Output: 6\n",
    "\n",
    "Explanation:\n",
    "\n",
    "arr = [1, 2,3, 4,5, 6,7, 8,9]\n",
    "\n",
    "arr = [2,4, 6,8]\n",
    "\n",
    "arr = [2, 6]\n",
    "\n",
    "arr = [6]\n"
   ]
  },
  {
   "cell_type": "code",
   "execution_count": 4,
   "id": "2a8edd9f",
   "metadata": {},
   "outputs": [
    {
     "name": "stdout",
     "output_type": "stream",
     "text": [
      "6\n"
     ]
    }
   ],
   "source": [
    "from typing import List\n",
    "\n",
    "def lastRemaining(n: int) -> int:\n",
    "        left = True  \n",
    "        remaining = n  \n",
    "        step = 1  \n",
    "        head = 1  \n",
    "        while remaining > 1 :\n",
    "            if left or remaining % 2 == 1:\n",
    "                head += step\n",
    "            step *= 2  \n",
    "            remaining //= 2  \n",
    "            left = not left \n",
    "\n",
    "        return head\n",
    "print(lastRemaining(9))"
   ]
  },
  {
   "cell_type": "markdown",
   "id": "3ef4c8b1",
   "metadata": {},
   "source": [
    "# Question 3\n",
    "\n",
    "****Given a set represented as a string, write a recursive code to print all subsets of it. The subsets can be printed in any order.\n",
    "\n",
    "**Example 1:**\n",
    "\n",
    "Input :  set = “abc”\n",
    "\n",
    "Output : { “”, “a”, “b”, “c”, “ab”, “ac”, “bc”, “abc”}\n",
    "\n",
    "**Example 2:**\n",
    "\n",
    "Input : set = “abcd”\n",
    "\n",
    "Output : { “”, “a” ,”ab” ,”abc” ,”abcd”, “abd” ,”ac” ,”acd”, “ad” ,”b”, “bc” ,”bcd” ,”bd” ,”c” ,”cd” ,”d” }\n",
    "\n"
   ]
  },
  {
   "cell_type": "code",
   "execution_count": 7,
   "id": "15eaf970",
   "metadata": {},
   "outputs": [
    {
     "name": "stdout",
     "output_type": "stream",
     "text": [
      "\n",
      "a\n",
      "ab\n",
      "abc\n",
      "ac\n",
      "b\n",
      "bc\n",
      "c\n"
     ]
    }
   ],
   "source": [
    "def powerSet(str1, index, curr):\n",
    "    n = len(str1)\n",
    " \n",
    "  \n",
    "    if (index == n):\n",
    "        return\n",
    " \n",
    " \n",
    "    print(curr)\n",
    " \n",
    "   \n",
    "    for i in range(index + 1, n):\n",
    "        curr += str1[i]\n",
    "        powerSet(str1, i, curr)\n",
    " \n",
    "       \n",
    "        curr = curr.replace(curr[len(curr) - 1], \"\")\n",
    " \n",
    "    return\n",
    " \n",
    " \n",
    "\n",
    "if __name__ == '__main__':\n",
    "   set = \"abc\"\n",
    "powerSet(set, -1, \"\")"
   ]
  },
  {
   "cell_type": "markdown",
   "id": "10e15249",
   "metadata": {},
   "source": [
    "# Question 4\n",
    "\n",
    "Given a string calculate length of the string using recursion.\n",
    "\n",
    "**Examples:**\n",
    "\n",
    "Input : str = \"abcd\"\n",
    "\n",
    "Output :4\n",
    "\n",
    "\n",
    "\n",
    "Input : str = \"GEEKSFORGEEKS\"\n",
    "\n",
    "Output :13\n",
    "\n"
   ]
  },
  {
   "cell_type": "code",
   "execution_count": 10,
   "id": "a95e9100",
   "metadata": {},
   "outputs": [
    {
     "name": "stdout",
     "output_type": "stream",
     "text": [
      "4\n"
     ]
    }
   ],
   "source": [
    "def string_length(s) :\n",
    "     \n",
    "    \n",
    "    if s == '':\n",
    "        return 0\n",
    "    else :\n",
    "        return 1 + string_length(s[1:])\n",
    "if __name__ == '__main__':   \n",
    "    s = \"abcd\"\n",
    "print (string_length(s))"
   ]
  },
  {
   "cell_type": "markdown",
   "id": "3528da0b",
   "metadata": {},
   "source": [
    "# Question 5\n",
    "\n",
    "We are given a string S, we need to find count of all contiguous substrings starting and ending with same character.\n",
    "\n",
    "**Examples :**\n",
    "\n",
    "Input  : S = \"abcab\"\n",
    "\n",
    "Output : 7\n",
    "\n",
    "There are 15 substrings of \"abcab\"\n",
    "\n",
    "a, ab, abc, abca, abcab, b, bc, bca\n",
    "\n",
    "bcab, c, ca, cab, a, ab, b\n",
    "\n",
    "Out of the above substrings, there\n",
    "\n",
    "are 7 substrings : a, abca, b, bcab,\n",
    "\n",
    "c, a and b.\n",
    "\n",
    "\n",
    "\n",
    "Input  : S = \"aba\"\n",
    "\n",
    "Output : 4\n",
    "\n",
    "The substrings are a, b, a and aba"
   ]
  },
  {
   "cell_type": "code",
   "execution_count": 11,
   "id": "153b1206",
   "metadata": {},
   "outputs": [
    {
     "name": "stdout",
     "output_type": "stream",
     "text": [
      "7\n"
     ]
    }
   ],
   "source": [
    "def checkEquality(s):\n",
    "    return (ord(s[0]) == ord(s[len(s) - 1]));\n",
    " \n",
    "def countSubstringWithEqualEnds(s):\n",
    "    result = 0;\n",
    "    n = len(s);\n",
    " \n",
    "    for i in range(n):\n",
    " \n",
    "        for j in range(1,n-i+1):\n",
    " \n",
    "       \n",
    "            if (checkEquality(s[i:i+j])):\n",
    "                result+=1;\n",
    " \n",
    "    return result;\n",
    " \n",
    "\n",
    "s = \"abcab\";\n",
    "print(countSubstringWithEqualEnds(s));"
   ]
  },
  {
   "cell_type": "markdown",
   "id": "cb4ed5c8",
   "metadata": {},
   "source": [
    "# Question 6\n",
    "\n",
    "The [tower of Hanoi](https://en.wikipedia.org/wiki/Tower_of_Hanoi) is a famous puzzle where we have three rods and **N** disks. The objective of the puzzle is to move the entire stack to another rod. You are given the number of discs **N**. Initially, these discs are in the rod 1. You need to print all the steps of discs movement so that all the discs reach the 3rd rod. Also, you need to find the total moves.**Note:** The discs are arranged such that the **top disc is numbered 1** and the **bottom-most disc is numbered N**. Also, all the discs have **different sizes** and a bigger disc **cannot** be put on the top of a smaller disc. Refer the provided link to get a better clarity about the puzzle.\n",
    "\n",
    "**Example 1:**\n",
    "\n",
    "\n",
    "Input:\n",
    "\n",
    "N = 2\n",
    "\n",
    "Output:\n",
    "\n",
    "move disk 1 from rod 1 to rod 2\n",
    "\n",
    "move disk 2 from rod 1 to rod 3\n",
    "\n",
    "move disk 1 from rod 2 to rod 3\n",
    "\n",
    "3\n",
    "\n",
    "Explanation:For N=2 , steps will be\n",
    "\n",
    "as follows in the example and total\n",
    "\n",
    "3 steps will be taken."
   ]
  },
  {
   "cell_type": "code",
   "execution_count": 17,
   "id": "dd51822d",
   "metadata": {},
   "outputs": [
    {
     "name": "stdout",
     "output_type": "stream",
     "text": [
      "enter the Value : 2\n",
      "Move disk 1 from 1 —> 2\n",
      "Move disk 2 from 1 —> 3\n",
      "Move disk 1 from 2 —> 3\n"
     ]
    }
   ],
   "source": [
    "\n",
    "def move(disks, source=1, auxiliary=2, target=3):\n",
    " \n",
    "    if disks > 0:\n",
    " \n",
    "       \n",
    "        move(disks - 1, source, target, auxiliary)\n",
    " \n",
    "       \n",
    "        print(f'Move disk {disks} from {source} —> {target}')\n",
    " \n",
    "        \n",
    "        move(disks - 1, auxiliary, source, target)\n",
    " \n",
    " \n",
    "\n",
    "if __name__ == '__main__':\n",
    " \n",
    "    n = int(input(\"enter the Value : \"));\n",
    "    move(n)\n",
    "    "
   ]
  },
  {
   "cell_type": "markdown",
   "id": "3fa3014b",
   "metadata": {},
   "source": [
    "# Question 7\n",
    "\n",
    "Given a string **str**, the task is to print all the permutations of **str**. A **permutation** is an arrangement of all or part of a set of objects, with regard to the order of the arrangement. For instance, the words ‘bat’ and ‘tab’ represents two distinct permutation (or arrangements) of a similar three letter word.\n",
    "\n",
    "**Examples:**\n",
    "\n",
    "> Input: str = “cd”\n",
    "> \n",
    "> \n",
    "> **Output:** cd dc\n",
    "> \n",
    "> **Input:** str = “abb”\n",
    "> \n",
    "> **Output:** abb abb bab bba bab bba\n",
    "> \n"
   ]
  },
  {
   "cell_type": "code",
   "execution_count": 19,
   "id": "a9d89ed2",
   "metadata": {},
   "outputs": [
    {
     "name": "stdout",
     "output_type": "stream",
     "text": [
      "cd\n",
      "dc\n"
     ]
    }
   ],
   "source": [
    "def toString(List):\n",
    "    return ''.join(List)\n",
    " \n",
    "\n",
    " \n",
    "def permute(a, l, r):\n",
    "    if l == r:\n",
    "        print(toString(a))\n",
    "    else:\n",
    "        for i in range(l, r):\n",
    "            a[l], a[i] = a[i], a[l]\n",
    "            permute(a, l+1, r)\n",
    "            a[l], a[i] = a[i], a[l]  \n",
    " \n",
    " \n",
    "string = \"cd\"\n",
    "n = len(string)\n",
    "a = list(string)\n",
    " \n",
    "\n",
    "permute(a, 0, n)"
   ]
  },
  {
   "cell_type": "markdown",
   "id": "f8fd4609",
   "metadata": {},
   "source": [
    "# Question 8\n",
    "\n",
    "Given a string, count total number of consonants in it. A consonant is an English alphabet character that is not vowel (a, e, i, o and u). Examples of constants are b, c, d, f, and g.\n",
    "\n",
    "**Examples :**\n",
    "\n",
    "\n",
    "Input : abc de\n",
    "\n",
    "Output : 3\n",
    "\n",
    "There are three consonants b, c and d.\n",
    "\n",
    "\n",
    "\n",
    "Input : geeksforgeeks portal\n",
    "\n",
    "Output : 12"
   ]
  },
  {
   "cell_type": "code",
   "execution_count": 20,
   "id": "d079d94a",
   "metadata": {},
   "outputs": [
    {
     "name": "stdout",
     "output_type": "stream",
     "text": [
      "3\n"
     ]
    }
   ],
   "source": [
    "def isConsonant(ch):\n",
    "    \n",
    "    ch = ch.upper()\n",
    "  \n",
    "    return not (ch == 'A' or ch == 'E' or \n",
    "                ch == 'I' or ch == 'O' or \n",
    "                ch == 'U') and ord(ch) >= 65 and ord(ch) <= 90\n",
    "  \n",
    "def totalConsonants(string):\n",
    "      \n",
    "    count = 0\n",
    "      \n",
    "    for i in range(len(string)):\n",
    "  \n",
    "        if (isConsonant(string[i])):\n",
    "            count += 1\n",
    "              \n",
    "    return count\n",
    "  \n",
    "\n",
    "string = \"abc de\"\n",
    "print(totalConsonants(string))"
   ]
  },
  {
   "cell_type": "code",
   "execution_count": null,
   "id": "b7d757d1",
   "metadata": {},
   "outputs": [],
   "source": []
  }
 ],
 "metadata": {
  "kernelspec": {
   "display_name": "Python 3 (ipykernel)",
   "language": "python",
   "name": "python3"
  },
  "language_info": {
   "codemirror_mode": {
    "name": "ipython",
    "version": 3
   },
   "file_extension": ".py",
   "mimetype": "text/x-python",
   "name": "python",
   "nbconvert_exporter": "python",
   "pygments_lexer": "ipython3",
   "version": "3.9.7"
  }
 },
 "nbformat": 4,
 "nbformat_minor": 5
}
