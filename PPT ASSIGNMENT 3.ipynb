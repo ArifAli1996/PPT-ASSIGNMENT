{
 "cells": [
  {
   "cell_type": "markdown",
   "id": "a7419025",
   "metadata": {},
   "source": [
    "#  PPT ASSIGNMENT 3"
   ]
  },
  {
   "cell_type": "markdown",
   "id": "4fc5efc0",
   "metadata": {},
   "source": [
    "# Question 1\n",
    "\n",
    "Given an integer array nums of length n and an integer target, find three integers\n",
    "in nums such that the sum is closest to the target.\n",
    "Return the sum of the three integers.\n",
    "\n",
    "\n",
    "You may assume that each input would have exactly one solution.\n",
    "\n",
    "\n",
    "Example 1:\n",
    "\n",
    "Input: nums = [-1,2,1,-4], target = 1\n",
    "\n",
    "Output: 2\n",
    "\n",
    "\n",
    "Explanation: The sum that is closest to the target is 2. (-1 + 2 + 1 = 2)."
   ]
  },
  {
   "cell_type": "code",
   "execution_count": 1,
   "id": "29cac0bb",
   "metadata": {},
   "outputs": [
    {
     "name": "stdout",
     "output_type": "stream",
     "text": [
      "2\n"
     ]
    }
   ],
   "source": [
    "def threeSumClosest(nums, target):\n",
    "        nums.sort()\n",
    "        n = len(nums)\n",
    "        closest_sum = nums[0] + nums[1] + nums[2] # initialize closest sum\n",
    "        for i in range(n - 2):\n",
    "            left, right = i + 1, n - 1\n",
    "            while left < right: # two-pointer approach\n",
    "                sum = nums[i] + nums[left] + nums[right]\n",
    "                if sum == target: # sum equals target, return immediately\n",
    "                    return sum\n",
    "                elif sum < target:\n",
    "                    left += 1\n",
    "                else:\n",
    "                    right -= 1\n",
    "                if abs(sum - target) < abs(closest_sum - target): # update closest sum\n",
    "                    closest_sum = sum\n",
    "        return closest_sum\n",
    "nums= [-1,2,1,-4]\n",
    "target = 1\n",
    "print(threeSumClosest(nums,target))"
   ]
  },
  {
   "cell_type": "markdown",
   "id": "71b487c9",
   "metadata": {},
   "source": [
    "# Question 2\n",
    "\n",
    "Given an array nums of n integers, return an array of all the unique quadruplets\n",
    "\n",
    "[nums[a], nums[b], nums[c], nums[d]] such that:\n",
    "\n",
    "● 0 <= a, b, c, d < n\n",
    "\n",
    "● a, b, c, and d are distinct.\n",
    "\n",
    "● nums[a] + nums[b] + nums[c] + nums[d] == target\n",
    "\n",
    "\n",
    "You may return the answer in any order.\n",
    "\n",
    "\n",
    "Example 1:\n",
    "\n",
    "Input: nums = [1,0,-1,0,-2,2], target = 0\n",
    "\n",
    "Output: [[-2,-1,1,2],[-2,0,0,2],[-1,0,0,1]"
   ]
  },
  {
   "cell_type": "code",
   "execution_count": 2,
   "id": "ee93d621",
   "metadata": {},
   "outputs": [
    {
     "name": "stdout",
     "output_type": "stream",
     "text": [
      "[[-2, -1, 1, 2], [-2, 0, 0, 2], [-1, 0, 0, 1]]\n"
     ]
    }
   ],
   "source": [
    "def fourSum(nums, target):\n",
    "    quadruplets = []\n",
    "    n = len(nums)\n",
    "\n",
    "    nums.sort()\n",
    "    for i in range(n - 3):\n",
    "\n",
    "        if i > 0 and nums[i] == nums[i - 1]:\n",
    "            continue\n",
    "        for j in range(i + 1, n - 2):\n",
    "\n",
    "            if j > i + 1 and nums[j] == nums[j - 1]:\n",
    "                continue\n",
    "            left = j + 1\n",
    "            right = n - 1\n",
    "            while left < right:\n",
    "                sum = nums[i] + nums[j] + nums[left] + nums[right]\n",
    "                if sum < target:\n",
    "                    left += 1\n",
    "                elif sum > target:\n",
    "                    right -= 1\n",
    "                else:\n",
    "                    quadruplets.append([nums[i], nums[j], nums[left], nums[right]])\n",
    "\n",
    "                    while left < right and nums[left] == nums[left + 1]:\n",
    "                        left += 1\n",
    "                    while left < right and nums[right] == nums[right - 1]:\n",
    "                        right -= 1\n",
    "                    left += 1\n",
    "                    right -= 1\n",
    "    return quadruplets\n",
    "nums=[1,0,-1,0,-2,2]\n",
    "target = 0\n",
    "print(fourSum(nums,target))"
   ]
  },
  {
   "cell_type": "markdown",
   "id": "c9b4e008",
   "metadata": {},
   "source": [
    "\n",
    "# Question 3\n",
    "\n",
    "A permutation of an array of integers is an arrangement of its members into a\n",
    "sequence or linear order.\n",
    "\n",
    "\n",
    "For example, for arr = [1,2,3], the following are all the permutations of arr:\n",
    "[1,2,3], [1,3,2], [2, 1, 3], [2, 3, 1], [3,1,2], [3,2,1].\n",
    "\n",
    "\n",
    "The next permutation of an array of integers is the next lexicographically greater\n",
    "permutation of its integer. More formally, if all the permutations of the array are\n",
    "sorted in one container according to their lexicographical order, then the next\n",
    "permutation of that array is the permutation that follows it in the sorted container.\n",
    "\n",
    "\n",
    "If such an arrangement is not possible, the array must be rearranged as the\n",
    "lowest possible order (i.e., sorted in ascending order).\n",
    "\n",
    "\n",
    "● For example, the next permutation of arr = [1,2,3] is [1,3,2].\n",
    "\n",
    "● Similarly, the next permutation of arr = [2,3,1] is [3,1,2].\n",
    "\n",
    "● While the next permutation of arr = [3,2,1] is [1,2,3] because [3,2,1] does not\n",
    "have a lexicographical larger rearrangement.\n",
    "\n",
    "\n",
    "Given an array of integers nums, find the next permutation of nums.\n",
    "The replacement must be in place and use only constant extra memory.\n",
    "\n",
    "\n",
    "**Example 1:**\n",
    "\n",
    "Input: nums = [1,2,3]\n",
    "\n",
    "Output: [1,3,2]\n",
    "\n"
   ]
  },
  {
   "cell_type": "code",
   "execution_count": 3,
   "id": "17a4e6f6",
   "metadata": {},
   "outputs": [
    {
     "name": "stdout",
     "output_type": "stream",
     "text": [
      "[1, 3, 2]\n"
     ]
    }
   ],
   "source": [
    "from typing import List\n",
    "def reverse(nums, i, j):\n",
    "    while i < j:\n",
    "        nums[i], nums[j] = nums[j], nums[i]\n",
    "        i += 1\n",
    "        j -= 1\n",
    "def nextPermutation(nums: List[int]):\n",
    "\n",
    "    n = len(nums)\n",
    "\n",
    "    index = -1\n",
    "\n",
    "    for i in range(n - 1, 0, -1):\n",
    "        if nums[i] > nums[i - 1]:\n",
    "            index = i - 1\n",
    "            break\n",
    "\n",
    "    if index == -1:\n",
    "        reverse(nums, 0, n - 1)\n",
    "        return nums\n",
    "    j = n - 1\n",
    "\n",
    "    for i in range(n - 1, index, -1):\n",
    "        if nums[i] > nums[index]:\n",
    "            j = i\n",
    "            break\n",
    "    nums[index], nums[j] = nums[j], nums[index]\n",
    "\n",
    "    reverse(nums, index + 1, n - 1)\n",
    "    return nums\n",
    "\n",
    "if __name__ == \"__main__\":\n",
    "    print(nextPermutation([1, 2, 3]))\n"
   ]
  },
  {
   "cell_type": "markdown",
   "id": "cf4b3d18",
   "metadata": {},
   "source": [
    "# Question 4\n",
    "\n",
    "Given a sorted array of distinct integers and a target value, return the index if the\n",
    "target is found. If not, return the index where it would be if it were inserted in\n",
    "order.\n",
    "\n",
    "\n",
    "You must write an algorithm with O(log n) runtime complexity.\n",
    "\n",
    "\n",
    "Example 1:\n",
    "\n",
    "Input: nums = [1,3,5,6], target = 5\n",
    "\n",
    "Output: 2"
   ]
  },
  {
   "cell_type": "code",
   "execution_count": 4,
   "id": "68e7548f",
   "metadata": {},
   "outputs": [
    {
     "name": "stdout",
     "output_type": "stream",
     "text": [
      "2\n"
     ]
    }
   ],
   "source": [
    "def searchInsert(nums, target):\n",
    "    l = 0\n",
    "    r = len(nums) - 1\n",
    "    while l <= r:\n",
    "        mid = (l + r) // 2\n",
    "        if nums[mid] < target:\n",
    "            l = mid + 1\n",
    "        elif nums[mid] > target:\n",
    "            r = mid - 1\n",
    "        else:\n",
    "            return mid\n",
    "    return l\n",
    "print(searchInsert([1,3,5,6],5))"
   ]
  },
  {
   "cell_type": "markdown",
   "id": "36475245",
   "metadata": {},
   "source": [
    "# Question 5\n",
    "\n",
    "You are given a large integer represented as an integer array digits, where each\n",
    "digits[i] is the ith digit of the integer. The digits are ordered from most significant\n",
    "to least significant in left-to-right order. The large integer does not contain any\n",
    "leading 0's.\n",
    "\n",
    "\n",
    "Increment the large integer by one and return the resulting array of digits.\n",
    "\n",
    "\n",
    "Example 1:\n",
    "\n",
    "Input: digits = [1,2,3]\n",
    "\n",
    "Output: [1,2,4]\n",
    "\n",
    "\n",
    "Explanation: The array represents the integer 123.\n",
    "\n",
    "Incrementing by one gives 123 + 1 = 124.\n",
    "\n",
    "Thus, the result should be [1,2,4].\n",
    "\n"
   ]
  },
  {
   "cell_type": "code",
   "execution_count": 5,
   "id": "f6b2415d",
   "metadata": {},
   "outputs": [
    {
     "name": "stdout",
     "output_type": "stream",
     "text": [
      "[1, 2, 4]\n"
     ]
    }
   ],
   "source": [
    "def plusOne( digits):\n",
    "\n",
    "        digits=[str(i) for i in digits]\n",
    "        s=''.join(digits)\n",
    "        a=int(s)+1\n",
    "        l=list(str(a))\n",
    "        l=[int(i) for i in l]\n",
    "        return l\n",
    "print(plusOne([1,2,3]))"
   ]
  },
  {
   "cell_type": "markdown",
   "id": "3c09740b",
   "metadata": {},
   "source": [
    "# Question 6\n",
    "\n",
    "Given a non-empty array of integers nums, every element appears twice except\n",
    "for one. Find that single one.\n",
    "\n",
    "\n",
    "You must implement a solution with a linear runtime complexity and use only\n",
    "constant extra space.\n",
    "\n",
    "\n",
    "Example 1:\n",
    "\n",
    "Input: nums = [2,2,1]\n",
    "\n",
    "Output: 1"
   ]
  },
  {
   "cell_type": "code",
   "execution_count": 7,
   "id": "20063a14",
   "metadata": {},
   "outputs": [
    {
     "name": "stdout",
     "output_type": "stream",
     "text": [
      "1\n"
     ]
    }
   ],
   "source": [
    "def findSingle(A, ar_size):\n",
    "\n",
    "    for i in range(ar_size):\n",
    "\n",
    "\n",
    "        count = 0\n",
    "        for j in range(ar_size):\n",
    "\n",
    "\n",
    "            if (A[i] == A[j]):\n",
    "                count += 1\n",
    "\n",
    "\n",
    "        if (count == 1):\n",
    "            return A[i]\n",
    "\n",
    "\n",
    "    return -1\n",
    "\n",
    "\n",
    "arr = [2,2,1]\n",
    "nums = len(arr)\n",
    "print(findSingle(arr, nums))\n",
    "\n",
    "\n"
   ]
  },
  {
   "cell_type": "markdown",
   "id": "3a12bf48",
   "metadata": {},
   "source": [
    "# Question 7\n",
    "\n",
    "You are given an inclusive range [lower, upper] and a sorted unique integer array\n",
    "nums, where all elements are within the inclusive range.\n",
    "\n",
    "\n",
    "A number x is considered missing if x is in the range [lower, upper] and x is not in\n",
    "nums.\n",
    "\n",
    "\n",
    "Return the shortest sorted list of ranges that exactly covers all the missing\n",
    "numbers. That is, no element of nums is included in any of the ranges, and each\n",
    "missing number is covered by one of the ranges.\n",
    "\n",
    "\n",
    "Example 1:\n",
    "\n",
    "Input: nums = [0,1,3,50,75], lower = 0, upper = 99\n",
    "\n",
    "Output: [[2,2],[4,49],[51,74],[76,99]]\n",
    "\n",
    "\n",
    "Explanation: The ranges are:\n",
    "\n",
    "[2,2]\n",
    "\n",
    "[4,49]\n",
    "\n",
    "[51,74]\n",
    "\n",
    "[76,99]\n"
   ]
  },
  {
   "cell_type": "code",
   "execution_count": 11,
   "id": "b7918fcf",
   "metadata": {},
   "outputs": [
    {
     "name": "stdout",
     "output_type": "stream",
     "text": [
      "['2', '4->49', '51->74', '76->99']\n"
     ]
    }
   ],
   "source": [
    "from typing import List\n",
    "def findMissingRanges( nums: List[int], lower: int, upper: int) -> List[str]:\n",
    "    n, ans = len(nums), []\n",
    "    for num in nums:\n",
    "        if num == lower:\n",
    "            lower += 1\n",
    "        elif lower < num:\n",
    "            ans.append(generateRange(lower, num - 1))\n",
    "            lower = num + 1\n",
    "    finalRange = generateRange(lower, upper)\n",
    "    if finalRange:\n",
    "        ans.append(finalRange)\n",
    "    return ans\n",
    "\n",
    "def generateRange( lower, upper) -> str:\n",
    "    if lower == upper:\n",
    "        return str(lower)\n",
    "    elif lower < upper:\n",
    "        return str(lower) + '->' + str(upper)\n",
    "    return \"\"\n",
    "print(findMissingRanges([0,1,3,50,75],0,99))\n",
    "\n"
   ]
  },
  {
   "cell_type": "markdown",
   "id": "5a836283",
   "metadata": {},
   "source": [
    "# Question 8\n",
    "\n",
    "Given an array of meeting time intervals where intervals[i] = [starti, endi],\n",
    "determine if a person could attend all meetings.\n",
    "\n",
    "\n",
    "Example 1:\n",
    "\n",
    "Input: intervals = [[0,30],[5,10],[15,20]]\n",
    "\n",
    "Output: false"
   ]
  },
  {
   "cell_type": "code",
   "execution_count": 12,
   "id": "25a6f1ec",
   "metadata": {},
   "outputs": [
    {
     "name": "stdout",
     "output_type": "stream",
     "text": [
      "False\n"
     ]
    }
   ],
   "source": [
    "from typing import List\n",
    "def canAttendMeetings(intervals: List[List[int]]) -> bool:\n",
    "    new_intervals = sorted(intervals, key=lambda x: x[0])\n",
    "    for i in range(1, len(new_intervals)):\n",
    "        if new_intervals[i - 1][1] > new_intervals[i][0]: return False\n",
    "    return True\n",
    "print(canAttendMeetings([[0,30],[5,10],[15,20]]))"
   ]
  },
  {
   "cell_type": "code",
   "execution_count": null,
   "id": "9df128ce",
   "metadata": {},
   "outputs": [],
   "source": []
  }
 ],
 "metadata": {
  "kernelspec": {
   "display_name": "Python 3 (ipykernel)",
   "language": "python",
   "name": "python3"
  },
  "language_info": {
   "codemirror_mode": {
    "name": "ipython",
    "version": 3
   },
   "file_extension": ".py",
   "mimetype": "text/x-python",
   "name": "python",
   "nbconvert_exporter": "python",
   "pygments_lexer": "ipython3",
   "version": "3.9.7"
  }
 },
 "nbformat": 4,
 "nbformat_minor": 5
}
